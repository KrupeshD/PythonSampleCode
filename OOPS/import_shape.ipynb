{
 "cells": [
  {
   "cell_type": "code",
   "execution_count": 1,
   "metadata": {},
   "outputs": [
    {
     "name": "stdout",
     "output_type": "stream",
     "text": [
      "Area of the circle is: 28.306799100000003\nArea of the square is: 25\n"
     ]
    }
   ],
   "source": [
    "from shape import Circle,Square\n",
    "c = Circle(3,6,7)\n",
    "s = Square(5,10,12)\n",
    "print(\"Area of the circle is: {0}\".format(c.area()))\n",
    "print(\"Area of the square is: {0}\".format(s.area()))"
   ]
  },
  {
   "cell_type": "code",
   "execution_count": 2,
   "metadata": {},
   "outputs": [
    {
     "name": "stdout",
     "output_type": "stream",
     "text": [
      "Area of the circle is: 28.306799100000003\nArea of the square is: 25\n"
     ]
    }
   ],
   "source": [
    "import shape as sp\n",
    "c = sp.Circle(3,6,7)\n",
    "s = sp.Square(5,10,12)\n",
    "print(\"Area of the circle is: {0}\".format(c.area()))\n",
    "print(\"Area of the square is: {0}\".format(s.area()))"
   ]
  },
  {
   "cell_type": "code",
   "execution_count": 14,
   "metadata": {},
   "outputs": [
    {
     "name": "stdout",
     "output_type": "stream",
     "text": [
      "Area of the circle is: 28.306799100000003\n",
      "Area of the square is: 25\n"
     ]
    }
   ],
   "source": [
    "from shape import *\n",
    "c = sp.Circle(3,6,7)\n",
    "s = sp.Square(5,10,12)\n",
    "print(\"Area of the circle is: {0}\".format(c.area()))\n",
    "print(\"Area of the square is: {0}\".format(s.area()))"
   ]
  },
  {
   "cell_type": "code",
   "execution_count": null,
   "metadata": {},
   "outputs": [],
   "source": [
    ""
   ]
  }
 ],
 "metadata": {
  "kernelspec": {
   "display_name": "Python 3",
   "language": "python",
   "name": "python3"
  },
  "language_info": {
   "codemirror_mode": {
    "name": "ipython",
    "version": 3.0
   },
   "file_extension": ".py",
   "mimetype": "text/x-python",
   "name": "python",
   "nbconvert_exporter": "python",
   "pygments_lexer": "ipython3",
   "version": "3.5.1"
  }
 },
 "nbformat": 4,
 "nbformat_minor": 0
}